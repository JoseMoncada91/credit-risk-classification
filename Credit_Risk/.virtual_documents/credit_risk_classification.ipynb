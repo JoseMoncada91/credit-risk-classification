# Import the modules
import numpy as np
import pandas as pd
from pathlib import Path
from sklearn.metrics import confusion_matrix, classification_report











# Read the CSV file from the Resources folder into a Pandas DataFrame
df = pd.read_csv(Path('Resources/lending_data.csv'))

# Review the DataFrame
df.head()





# Separate the data into labels and features
# Separate the y variable, the labels
y = df['loan_status']
# Separate the X variable, the features
X = df.drop(columns=['loan_status'])


# Review the y variable Series
y.head()


# Review the X variable DataFrame
X.head()





# Import the train_test_learn module
from sklearn.model_selection import train_test_split

# Split the data using train_test_split
# Assign a random_state of 1 to the function
X_train, X_test, y_train, y_test = train_test_split(X, y, random_state=1)
X_train.shape, X_test.shape











# Import the LogisticRegression module from SKLearn
from sklearn.linear_model import LogisticRegression

# Instantiate the Logistic Regression model
# Assign a random_state parameter of 1 to the model
logreg = LogisticRegression(random_state=1)

# Fit the model using training data
logreg.fit(X_train, y_train)





# Make a prediction using the testing data
y_pred = logreg.predict(X_test)





# Generate a confusion matrix for the model
cm = confusion_matrix(y_test, y_pred)


# Print the classification report for the model
print(classification_report(y_test, y_pred))









